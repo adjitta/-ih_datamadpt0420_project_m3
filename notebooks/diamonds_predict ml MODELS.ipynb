{
 "cells": [
  {
   "cell_type": "code",
   "execution_count": null,
   "metadata": {},
   "outputs": [],
   "source": [
    "import pandas as pd\n",
    "import numpy as np\n",
    "import math\n",
    "\n",
    "import matplotlib.pyplot as plt\n",
    "import seaborn as sns"
   ]
  },
  {
   "cell_type": "code",
   "execution_count": null,
   "metadata": {},
   "outputs": [],
   "source": [
    "diamonds_df = pd.read_csv('../data/raws/diamonds_train.csv')\n",
    "diamonds_predict = pd.read_csv('../data/raws/diamonds_predict.csv')"
   ]
  },
  {
   "cell_type": "code",
   "execution_count": null,
   "metadata": {},
   "outputs": [],
   "source": [
    "diamonds_df.head()"
   ]
  },
  {
   "cell_type": "code",
   "execution_count": null,
   "metadata": {},
   "outputs": [],
   "source": [
    "diamonds_predict.head()"
   ]
  },
  {
   "cell_type": "code",
   "execution_count": null,
   "metadata": {},
   "outputs": [],
   "source": [
    "diamonds_df.info()"
   ]
  },
  {
   "cell_type": "code",
   "execution_count": null,
   "metadata": {},
   "outputs": [],
   "source": [
    "diamonds_df.describe()"
   ]
  },
  {
   "cell_type": "code",
   "execution_count": null,
   "metadata": {},
   "outputs": [],
   "source": [
    "diamonds_df.shape"
   ]
  },
  {
   "cell_type": "code",
   "execution_count": null,
   "metadata": {},
   "outputs": [],
   "source": [
    "diamonds_predict.shape"
   ]
  },
  {
   "cell_type": "markdown",
   "metadata": {},
   "source": [
    "## Data clean"
   ]
  },
  {
   "cell_type": "code",
   "execution_count": null,
   "metadata": {},
   "outputs": [],
   "source": [
    "diamonds_df = diamonds_df.replace(0, np.nan)"
   ]
  },
  {
   "cell_type": "code",
   "execution_count": null,
   "metadata": {},
   "outputs": [],
   "source": [
    "diamonds_df.isnull().sum()"
   ]
  },
  {
   "cell_type": "code",
   "execution_count": null,
   "metadata": {},
   "outputs": [],
   "source": [
    "diamonds_df.dropna(inplace=True)"
   ]
  },
  {
   "cell_type": "code",
   "execution_count": null,
   "metadata": {},
   "outputs": [],
   "source": [
    "diamonds_df.shape"
   ]
  },
  {
   "cell_type": "code",
   "execution_count": null,
   "metadata": {},
   "outputs": [],
   "source": [
    "diamonds_df= diamonds_df[diamonds_df['y'] < 50]"
   ]
  },
  {
   "cell_type": "code",
   "execution_count": null,
   "metadata": {},
   "outputs": [],
   "source": [
    "diamonds_df.describe()"
   ]
  },
  {
   "cell_type": "code",
   "execution_count": null,
   "metadata": {},
   "outputs": [],
   "source": [
    "diamonds_df.shape"
   ]
  },
  {
   "cell_type": "code",
   "execution_count": null,
   "metadata": {},
   "outputs": [],
   "source": [
    "diamonds_df_corr = diamonds_df.corr()\n",
    "diamonds_df_corr"
   ]
  },
  {
   "cell_type": "code",
   "execution_count": null,
   "metadata": {},
   "outputs": [],
   "source": [
    "corr_price = diamonds_df.corr() # We already examined Price correlations\n",
    "plt.figure(figsize=(12, 10))\n",
    "\n",
    "sns.heatmap(corr_price[(corr_price >= 0.5) | (corr_price <= -0.5)], \n",
    "            cmap='YlGnBu', vmax=1.0, vmin=-1.0, linewidths=0.1,\n",
    "            annot=True, annot_kws={\"size\": 8}, square=True);"
   ]
  },
  {
   "cell_type": "markdown",
   "metadata": {},
   "source": [
    "## Estudio de los diamantes"
   ]
  },
  {
   "cell_type": "markdown",
   "metadata": {},
   "source": [
    "La relación del precio de los diamantes no es líneal (mirar gráficos del proyecto 2) si no que es exponencial por lo que calculamos el log del carat log densidad es lo que más ajusta en diamantes pqueños, log carat en medianos y clarity + color en los de +2 carats"
   ]
  },
  {
   "cell_type": "code",
   "execution_count": null,
   "metadata": {},
   "outputs": [],
   "source": []
  },
  {
   "cell_type": "code",
   "execution_count": null,
   "metadata": {},
   "outputs": [],
   "source": []
  },
  {
   "cell_type": "code",
   "execution_count": null,
   "metadata": {},
   "outputs": [],
   "source": [
    "#Cambiamos en train y añadimos columna de logaritmo de carat\n",
    "\n",
    "diamonds_df['logaritmo carat'] = np.log(diamonds_df['carat'])\n",
    "\n",
    "# Cambiamos en predict\n",
    "\n",
    "diamonds_predict['logaritmo carat'] = np.log(diamonds_predict['carat'])"
   ]
  },
  {
   "cell_type": "markdown",
   "metadata": {},
   "source": [
    "El ancho y largo de los diamantes influyen positivamente en el precio (correlación de 0.89 entre x, y). Creamos columna para conocer el ratio"
   ]
  },
  {
   "cell_type": "code",
   "execution_count": null,
   "metadata": {},
   "outputs": [],
   "source": [
    "#Cambiamos en train y añadimos columna de ratio\n",
    "\n",
    "diamonds_df['x/y'] = diamonds_df['x'] / diamonds_df['y']\n",
    "\n",
    "# Cambiamos en predict\n",
    "\n",
    "diamonds_predict['x/y'] = diamonds_predict['x'] / diamonds_predict['y']"
   ]
  },
  {
   "cell_type": "markdown",
   "metadata": {},
   "source": [
    "x, y, z son dimensiones que hacen referencia al volumen del diamante"
   ]
  },
  {
   "cell_type": "code",
   "execution_count": null,
   "metadata": {},
   "outputs": [],
   "source": [
    "# diamante es como un cono\n",
    "#diamonds_df['volume_abajo'] = (1/3 * math.pi * (diamonds_df['x'] / 2)**2) * diamonds_df['z']\n",
    "#diamonds_predict['volume_abajo'] = (1/3 * math.pi * (diamonds_predict['x'] / 2)**2) * diamonds_predict['z']"
   ]
  },
  {
   "cell_type": "code",
   "execution_count": null,
   "metadata": {},
   "outputs": [],
   "source": [
    "diamonds_df['volume'] = np.log(diamonds_df['x']*diamonds_df['y']*diamonds_df['z'])\n",
    "diamonds_predict['volume'] = np.log(diamonds_predict['x']*diamonds_predict['y']*diamonds_predict['z'])"
   ]
  },
  {
   "cell_type": "markdown",
   "metadata": {},
   "source": [
    "Calculamos densidad diamante"
   ]
  },
  {
   "cell_type": "code",
   "execution_count": null,
   "metadata": {},
   "outputs": [],
   "source": [
    "diamonds_df['log densidad'] = np.log(diamonds_df['volume']/ diamonds_df['carat'])\n",
    "diamonds_predict['log densidad'] = np.log(diamonds_predict['volume'] / diamonds_predict['carat'])"
   ]
  },
  {
   "cell_type": "markdown",
   "metadata": {},
   "source": [
    "Forma de los diamantes importante, el diamante con forma redonda es el que más caro cuesta, porque es el más demandado"
   ]
  },
  {
   "cell_type": "code",
   "execution_count": null,
   "metadata": {},
   "outputs": [],
   "source": [
    "forma = []\n",
    "for i in diamonds_df['table'].index:\n",
    "    if 54<diamonds_df['table'][i]<57 and 61<diamonds_df['depth'][i]<62.5:\n",
    "        forma.append('Round')\n",
    "    elif 52<diamonds_df['table'][i]<60 and 60<diamonds_df['depth'][i]<68:\n",
    "        forma.append('Oval')\n",
    "    elif 63<diamonds_df['table'][i]<69 and 69<diamonds_df['depth'][i]<76:\n",
    "        forma.append('Princess')\n",
    "    elif 58<diamonds_df['table'][i]<63 and 58<diamonds_df['depth'][i]<66:\n",
    "        forma.append('Cushion')\n",
    "    else:\n",
    "        forma.append('others')"
   ]
  },
  {
   "cell_type": "code",
   "execution_count": null,
   "metadata": {},
   "outputs": [],
   "source": [
    "diamonds_df['forma'] = forma"
   ]
  },
  {
   "cell_type": "code",
   "execution_count": null,
   "metadata": {},
   "outputs": [],
   "source": [
    "diamonds_df['forma'].value_counts()"
   ]
  },
  {
   "cell_type": "code",
   "execution_count": null,
   "metadata": {},
   "outputs": [],
   "source": [
    "## predict\n",
    "\n",
    "forma = []\n",
    "for i in diamonds_predict['table'].index:\n",
    "    if 54<diamonds_predict['table'][i]<57 and 61<diamonds_predict['depth'][i]<62.5:\n",
    "        forma.append('Round')\n",
    "    elif 52<diamonds_predict['table'][i]<60 and 60<diamonds_predict['depth'][i]<68:\n",
    "        forma.append('Oval')\n",
    "    elif 63<diamonds_predict['table'][i]<69 and 69<diamonds_predict['depth'][i]<76:\n",
    "        forma.append('Princess')\n",
    "    elif 58<diamonds_predict['table'][i]<63 and 58<diamonds_predict['depth'][i]<66:\n",
    "        forma.append('Cushion')\n",
    "    else:\n",
    "        forma.append('others')"
   ]
  },
  {
   "cell_type": "code",
   "execution_count": null,
   "metadata": {},
   "outputs": [],
   "source": [
    "diamonds_predict['forma'] = forma"
   ]
  },
  {
   "cell_type": "code",
   "execution_count": null,
   "metadata": {},
   "outputs": [],
   "source": [
    "diamonds_predict['forma'].value_counts()"
   ]
  },
  {
   "cell_type": "markdown",
   "metadata": {},
   "source": [
    "Tranformamos las variables categoricas, en este caso vamos a asignarle un valor numerico porque no todos las variables tienen la misma importancia"
   ]
  },
  {
   "cell_type": "code",
   "execution_count": null,
   "metadata": {},
   "outputs": [],
   "source": [
    "#Cambiamos en train\n",
    "\n",
    "diamonds_df['cut']=diamonds_df['cut'].map({'Fair':0,'Good':1,'Very Good':2,'Premium':3, 'Ideal':4})\n",
    "diamonds_df['color']=diamonds_df['color'].map({'J':0, 'I':1, 'H':2, 'G':3, 'F': 4, 'E': 5, 'D':6})\n",
    "diamonds_df['clarity']=diamonds_df['clarity'].map({'I1':0,'SI2':1,'SI1':2,'VS2':3,'VS1':4,'VVS2':5,'VVS1':6,'IF':7})\n",
    "\n",
    "#cambiamos en predict\n",
    "\n",
    "diamonds_predict['cut']=diamonds_predict['cut'].map({'Fair':0,'Good':1,'Very Good':2,'Premium':3, 'Ideal':4})\n",
    "diamonds_predict['color']=diamonds_predict['color'].map({'J':0, 'I':1, 'H':2, 'G':3, 'F': 4, 'E': 5, 'D':6})\n",
    "diamonds_predict['clarity']=diamonds_predict['clarity'].map({'I1':0,'SI2':1,'SI1':2,'VS2':3,'VS1':4,'VVS2':5,'VVS1':6,'IF':7})"
   ]
  },
  {
   "cell_type": "code",
   "execution_count": null,
   "metadata": {},
   "outputs": [],
   "source": [
    "diamonds_df['cut/wt'] = diamonds_df['cut']/diamonds_df['carat']\n",
    "diamonds_df['color/wt'] = diamonds_df['color']/diamonds_df['carat']\n",
    "diamonds_df['clarity/wt'] = diamonds_df['clarity']/diamonds_df['carat']\n",
    "\n",
    "diamonds_predict['cut/wt'] = diamonds_predict['cut']/diamonds_predict['carat']\n",
    "diamonds_predict['color/wt'] = diamonds_predict['color']/diamonds_predict['carat']\n",
    "diamonds_predict['clarity/wt'] = diamonds_predict['clarity']/diamonds_predict['carat']\n",
    "#diamonds_predict = diamonds_predict.drop(['cut','color','clarity','depth'], axis=1)"
   ]
  },
  {
   "cell_type": "code",
   "execution_count": null,
   "metadata": {},
   "outputs": [],
   "source": [
    "#5 lo más caro 1 lo menos caro\n",
    "diamonds_df['forma']=diamonds_df['forma'].map({'Round':5, 'Oval': 12, 'Princess': 4, 'Cushion':3, 'others':1})\n",
    "diamonds_predict['forma']=diamonds_predict['forma'].map({'Round':5, 'Oval': 12, 'Princess': 4, 'Cushion':3, 'others':1})"
   ]
  },
  {
   "cell_type": "code",
   "execution_count": null,
   "metadata": {},
   "outputs": [],
   "source": [
    "diamonds_df = diamonds_df.replace(0, np.nan)"
   ]
  },
  {
   "cell_type": "code",
   "execution_count": null,
   "metadata": {},
   "outputs": [],
   "source": [
    "diamonds_df.isnull().sum()"
   ]
  },
  {
   "cell_type": "code",
   "execution_count": null,
   "metadata": {},
   "outputs": [],
   "source": [
    "diamonds_df.dropna(inplace=True)"
   ]
  },
  {
   "cell_type": "code",
   "execution_count": null,
   "metadata": {},
   "outputs": [],
   "source": [
    "diamonds_predict = diamonds_predict.replace(0, np.nan)"
   ]
  },
  {
   "cell_type": "code",
   "execution_count": null,
   "metadata": {},
   "outputs": [],
   "source": [
    "diamonds_predict.isnull().sum()"
   ]
  },
  {
   "cell_type": "code",
   "execution_count": null,
   "metadata": {},
   "outputs": [],
   "source": [
    "diamonds_predict.dropna(inplace=True)"
   ]
  },
  {
   "cell_type": "code",
   "execution_count": null,
   "metadata": {},
   "outputs": [],
   "source": []
  },
  {
   "cell_type": "markdown",
   "metadata": {},
   "source": [
    "## Entrenamos al modelo"
   ]
  },
  {
   "cell_type": "code",
   "execution_count": null,
   "metadata": {},
   "outputs": [],
   "source": [
    "from sklearn.svm import SVR\n",
    "from sklearn.ensemble import RandomForestRegressor, AdaBoostRegressor, GradientBoostingRegressor\n",
    "import xgboost as xgb\n",
    "import lightgbm as lgb\n",
    "from sklearn.ensemble import BaggingRegressor\n",
    "\n",
    "\n",
    "from sklearn.metrics import mean_squared_error,r2_score\n",
    "\n",
    "from sklearn.model_selection import KFold, RepeatedKFold\n",
    "from sklearn.model_selection import GridSearchCV, RandomizedSearchCV\n",
    "\n",
    "from sklearn.model_selection import train_test_split\n",
    "\n",
    "from sklearn.preprocessing import StandardScaler\n"
   ]
  },
  {
   "cell_type": "code",
   "execution_count": null,
   "metadata": {},
   "outputs": [],
   "source": [
    "#(diamonds_df.drop(['cut', 'color', 'table', 'clarity'], axis=1)).shape"
   ]
  },
  {
   "cell_type": "code",
   "execution_count": null,
   "metadata": {},
   "outputs": [],
   "source": [
    "diamonds_predict.shape"
   ]
  },
  {
   "cell_type": "code",
   "execution_count": null,
   "metadata": {},
   "outputs": [],
   "source": [
    "sc = StandardScaler()\n",
    "columns_df = ['cut', 'color', 'clarity', 'logaritmo carat', 'volume', 'log densidad', \n",
    "              'x/y']\n",
    "X = sc.fit_transform(diamonds_df[columns_df])\n",
    "y = diamonds_df['price'].values"
   ]
  },
  {
   "cell_type": "code",
   "execution_count": null,
   "metadata": {},
   "outputs": [],
   "source": [
    "x_train, x_test, y_train, y_test = train_test_split(X, y)"
   ]
  },
  {
   "cell_type": "markdown",
   "metadata": {},
   "source": [
    "Excluimos x,y,z debido a su dependencia del quilate, adicionalmente se excluyen la profundidad y la mesa debido a su muy baja correlación con el precio"
   ]
  },
  {
   "cell_type": "code",
   "execution_count": null,
   "metadata": {},
   "outputs": [],
   "source": [
    "diamonds_df.head()"
   ]
  },
  {
   "cell_type": "markdown",
   "metadata": {},
   "source": [
    "## Mejores modelos"
   ]
  },
  {
   "cell_type": "markdown",
   "metadata": {},
   "source": [
    "## GradientBoostingRegressor"
   ]
  },
  {
   "cell_type": "code",
   "execution_count": null,
   "metadata": {},
   "outputs": [],
   "source": [
    "model = GradientBoostingRegressor(n_estimators=100)\n",
    "model.fit(x_train, y_train)\n",
    "y_pred = model.predict(x_test)"
   ]
  },
  {
   "cell_type": "code",
   "execution_count": null,
   "metadata": {},
   "outputs": [],
   "source": [
    "print(f\"Mean squared error: {mean_squared_error(y_test, y_pred, squared=False)}\")\n",
    "R2 = r2_score(y_test,y_pred)\n",
    "print(f\"R Squared: {R2}\")"
   ]
  },
  {
   "cell_type": "code",
   "execution_count": null,
   "metadata": {},
   "outputs": [],
   "source": [
    "from sklearn.model_selection import cross_val_score\n",
    "scores = cross_val_score(model, \n",
    "                         X, \n",
    "                         y, \n",
    "                         scoring='neg_root_mean_squared_error', \n",
    "                         cv=5, n_jobs=-1)"
   ]
  },
  {
   "cell_type": "code",
   "execution_count": null,
   "metadata": {},
   "outputs": [],
   "source": [
    "np.mean(-scores)"
   ]
  },
  {
   "cell_type": "code",
   "execution_count": null,
   "metadata": {},
   "outputs": [],
   "source": [
    "X_test = sc.transform(diamonds_predict[columns_df].values)\n",
    "y_hat = model.predict(X_test).clip(0, 20000)\n",
    "submission = pd.DataFrame({'id': diamonds_predict['id'], 'price': y_hat})\n",
    "submission.to_csv('../data/results_2/GradientBoostingRegressor_no_hiperparametros.csv', index=False)"
   ]
  },
  {
   "cell_type": "markdown",
   "metadata": {},
   "source": [
    "## BaggingRegressor"
   ]
  },
  {
   "cell_type": "code",
   "execution_count": null,
   "metadata": {},
   "outputs": [],
   "source": [
    "model = BaggingRegressor(n_estimators=100)\n",
    "model.fit(x_train, y_train)\n",
    "y_pred = model.predict(x_test)"
   ]
  },
  {
   "cell_type": "code",
   "execution_count": null,
   "metadata": {},
   "outputs": [],
   "source": [
    "print(f\"Mean squared error: {mean_squared_error(y_test, y_pred, squared=False)}\")\n",
    "R2 = r2_score(y_test,y_pred)\n",
    "print(f\"R Squared: {R2}\")"
   ]
  },
  {
   "cell_type": "code",
   "execution_count": null,
   "metadata": {},
   "outputs": [],
   "source": [
    "from sklearn.model_selection import cross_val_score\n",
    "scores = cross_val_score(model, \n",
    "                         X, \n",
    "                         y, \n",
    "                         scoring='neg_root_mean_squared_error', \n",
    "                         cv=5, n_jobs=-1)"
   ]
  },
  {
   "cell_type": "code",
   "execution_count": null,
   "metadata": {},
   "outputs": [],
   "source": [
    "np.mean(-scores)"
   ]
  },
  {
   "cell_type": "code",
   "execution_count": null,
   "metadata": {},
   "outputs": [],
   "source": [
    "X_test = sc.transform(diamonds_predict[columns_df].values)\n",
    "y_hat = model.predict(X_test).clip(0, 20000)\n",
    "submission = pd.DataFrame({'id': diamonds_predict['id'], 'price': y_hat})\n",
    "submission.to_csv('../data/results_2/BaggingRegressor_no_hiperparametros.csv', index=False)"
   ]
  },
  {
   "cell_type": "markdown",
   "metadata": {},
   "source": [
    "## lightgbm"
   ]
  },
  {
   "cell_type": "code",
   "execution_count": null,
   "metadata": {},
   "outputs": [],
   "source": [
    "model = lgb.LGBMRegressor(n_estimators=100)\n",
    "model.fit(x_train, y_train)\n",
    "y_pred = model.predict(x_test)"
   ]
  },
  {
   "cell_type": "code",
   "execution_count": null,
   "metadata": {},
   "outputs": [],
   "source": [
    "print(f\"Mean squared error: {mean_squared_error(y_test, y_pred, squared=False)}\")\n",
    "R2 = r2_score(y_test,y_pred)\n",
    "print(f\"R Squared: {R2}\")"
   ]
  },
  {
   "cell_type": "code",
   "execution_count": null,
   "metadata": {},
   "outputs": [],
   "source": [
    "y_test = model.predict(x_test)\n",
    "y_train = model.predict(x_test)"
   ]
  },
  {
   "cell_type": "code",
   "execution_count": null,
   "metadata": {},
   "outputs": [],
   "source": [
    "from sklearn.model_selection import cross_val_score\n",
    "scores = cross_val_score(model, \n",
    "                         X, \n",
    "                         y, \n",
    "                         scoring='neg_root_mean_squared_error', \n",
    "                         cv=5, n_jobs=-1)"
   ]
  },
  {
   "cell_type": "code",
   "execution_count": null,
   "metadata": {},
   "outputs": [],
   "source": [
    "np.mean(-scores)"
   ]
  },
  {
   "cell_type": "code",
   "execution_count": null,
   "metadata": {},
   "outputs": [],
   "source": [
    "X_test = sc.transform(diamonds_predict[columns_df].values)\n",
    "y_hat = model.predict(X_test).clip(0, 20000)\n",
    "submission = pd.DataFrame({'id': diamonds_predict['id'], 'price': y_hat})\n",
    "submission.to_csv('../data/results_2/lightgbm_hiper_densidad_log.csv', index=False)"
   ]
  },
  {
   "cell_type": "code",
   "execution_count": null,
   "metadata": {},
   "outputs": [],
   "source": [
    "d_train = lgb.Dataset(x_train, label=y_train)\n",
    "d_valid = lgb.Dataset(x_test, label=y_test)"
   ]
  },
  {
   "cell_type": "code",
   "execution_count": null,
   "metadata": {},
   "outputs": [],
   "source": [
    "params = {\n",
    "    'boosting_type': 'gbdt',\n",
    "    'objective': 'regression',\n",
    "    'metric': 'rmse',\n",
    "    'max_depth':1,\n",
    "    'verbose':10,\n",
    "    'early_stopping_round': 20\n",
    "}"
   ]
  },
  {
   "cell_type": "code",
   "execution_count": null,
   "metadata": {},
   "outputs": [],
   "source": [
    "n_estimators = 115\n",
    "watchlist=[d_valid]"
   ]
  },
  {
   "cell_type": "code",
   "execution_count": null,
   "metadata": {},
   "outputs": [],
   "source": [
    "model = lgb.LGBMRegressor()"
   ]
  },
  {
   "cell_type": "code",
   "execution_count": null,
   "metadata": {},
   "outputs": [],
   "source": [
    "param_grid = {'num_leaves': [35, 40, 45, 50],\n",
    "             'min_data_in_leaf': [10, 15, 20, 30, 40],\n",
    "             'max_depth': [25, 30, 35, 40, 45]}"
   ]
  },
  {
   "cell_type": "code",
   "execution_count": null,
   "metadata": {},
   "outputs": [],
   "source": [
    "grid_search = RandomizedSearchCV(estimator = model,\n",
    "                        param_distributions = param_grid,\n",
    "                        cv = 5,\n",
    "                        n_jobs = -1,\n",
    "                        scoring = 'neg_root_mean_squared_error',)\n"
   ]
  },
  {
   "cell_type": "code",
   "execution_count": null,
   "metadata": {},
   "outputs": [],
   "source": []
  },
  {
   "cell_type": "code",
   "execution_count": null,
   "metadata": {},
   "outputs": [],
   "source": []
  },
  {
   "cell_type": "code",
   "execution_count": null,
   "metadata": {},
   "outputs": [],
   "source": []
  },
  {
   "cell_type": "code",
   "execution_count": null,
   "metadata": {},
   "outputs": [],
   "source": [
    "grid_search.fit(X, y)"
   ]
  },
  {
   "cell_type": "code",
   "execution_count": null,
   "metadata": {},
   "outputs": [],
   "source": [
    "grid_search.best_estimator_"
   ]
  },
  {
   "cell_type": "code",
   "execution_count": null,
   "metadata": {},
   "outputs": [],
   "source": [
    "y_pred = grid_search.predict(X_test)\n",
    "\n",
    "mean_squared_error(y_test, y_pred)**0.5"
   ]
  },
  {
   "cell_type": "code",
   "execution_count": null,
   "metadata": {},
   "outputs": [],
   "source": [
    "gbm = lgb.train(params,\n",
    "                d_train,\n",
    "                n_estimators,\n",
    "                watchlist,\n",
    "                verbose_eval=1)"
   ]
  },
  {
   "cell_type": "code",
   "execution_count": null,
   "metadata": {},
   "outputs": [],
   "source": [
    "x_test = sc.fit_transform(diamonds_df[columns_df])"
   ]
  },
  {
   "cell_type": "code",
   "execution_count": null,
   "metadata": {},
   "outputs": [],
   "source": [
    "y_hat = grid_search.predict(x_test)"
   ]
  },
  {
   "cell_type": "code",
   "execution_count": null,
   "metadata": {},
   "outputs": [],
   "source": [
    "#X_test = sc.transform(diamonds_predict[columns_df].values)\n",
    "#y_hat = model.predict(X_test).clip(0, 20000)\n",
    "#submission = pd.DataFrame({'id': diamonds_predict['id'], 'price': y_hat})\n",
    "#submission.to_csv('../data/results_2/lightgbm_no_hiperparametros_forma_diamantes.csv', index=False)"
   ]
  },
  {
   "cell_type": "code",
   "execution_count": null,
   "metadata": {},
   "outputs": [],
   "source": [
    "output = pd.DataFrame({'id': diamonds_predict['id'], 'price': y_pred})\n",
    "output.to_csv('../data/results_2/lightgbm_no_hiperparametros_forma_diamantes_final_submit_volumen.csv', index=False)"
   ]
  },
  {
   "cell_type": "code",
   "execution_count": null,
   "metadata": {},
   "outputs": [],
   "source": []
  },
  {
   "cell_type": "code",
   "execution_count": null,
   "metadata": {},
   "outputs": [],
   "source": []
  },
  {
   "cell_type": "code",
   "execution_count": null,
   "metadata": {},
   "outputs": [],
   "source": []
  },
  {
   "cell_type": "code",
   "execution_count": null,
   "metadata": {},
   "outputs": [],
   "source": [
    "model = lgb.LGBMRegressor(n_estimators=100)\n",
    "model.fit(x_train, y_train)\n",
    "y_pred = model.predict(x_test)"
   ]
  },
  {
   "cell_type": "code",
   "execution_count": null,
   "metadata": {},
   "outputs": [],
   "source": [
    "print(f\"Mean squared error: {mean_squared_error(y_test, y_pred, squared=False)}\")\n",
    "R2 = r2_score(y_test,y_pred)\n",
    "print(f\"R Squared: {R2}\")"
   ]
  },
  {
   "cell_type": "code",
   "execution_count": null,
   "metadata": {},
   "outputs": [],
   "source": [
    "from sklearn.model_selection import cross_val_score\n",
    "scores = cross_val_score(model, \n",
    "                         X, \n",
    "                         y, \n",
    "                         scoring='neg_root_mean_squared_error', \n",
    "                         cv=5, n_jobs=-1)"
   ]
  },
  {
   "cell_type": "code",
   "execution_count": null,
   "metadata": {},
   "outputs": [],
   "source": [
    "np.mean(-scores)"
   ]
  },
  {
   "cell_type": "code",
   "execution_count": null,
   "metadata": {},
   "outputs": [],
   "source": [
    "X_test = sc.transform(diamonds_predict[columns_df].values)\n",
    "y_hat = model.predict(X_test).clip(0, 20000)\n",
    "submission = pd.DataFrame({'id': diamonds_predict['id'], 'price': y_hat})\n",
    "submission.to_csv('../data/results_2/lightgbm_no_hiperparametros_forma_diamantes.csv', index=False)"
   ]
  },
  {
   "cell_type": "markdown",
   "metadata": {},
   "source": [
    "##  AdaBoostRegressor"
   ]
  },
  {
   "cell_type": "code",
   "execution_count": null,
   "metadata": {},
   "outputs": [],
   "source": [
    "model = AdaBoostRegressor(n_estimators=100)\n",
    "model.fit(x_train, y_train)\n",
    "y_pred = model.predict(x_test)"
   ]
  },
  {
   "cell_type": "code",
   "execution_count": null,
   "metadata": {},
   "outputs": [],
   "source": [
    "print(f\"Mean squared error: {mean_squared_error(y_test, y_pred, squared=False)}\")\n",
    "R2 = r2_score(y_test,y_pred)\n",
    "print(f\"R Squared: {R2}\")"
   ]
  },
  {
   "cell_type": "code",
   "execution_count": null,
   "metadata": {},
   "outputs": [],
   "source": [
    "from sklearn.model_selection import cross_val_score\n",
    "scores = cross_val_score(model, \n",
    "                         X, \n",
    "                         y, \n",
    "                         scoring='neg_root_mean_squared_error', \n",
    "                         cv=5, n_jobs=-1)"
   ]
  },
  {
   "cell_type": "code",
   "execution_count": null,
   "metadata": {},
   "outputs": [],
   "source": [
    "np.mean(-scores)"
   ]
  },
  {
   "cell_type": "code",
   "execution_count": null,
   "metadata": {},
   "outputs": [],
   "source": [
    "X_test = sc.transform(diamonds_predict[columns_df].values)\n",
    "y_hat = model.predict(X_test).clip(0, 20000)\n",
    "submission = pd.DataFrame({'id': diamonds_predict['id'], 'price': y_hat})\n",
    "submission.to_csv('../data/results_2/AdaBoostRegressor_no_hiperparametros.csv', index=False)"
   ]
  },
  {
   "cell_type": "markdown",
   "metadata": {},
   "source": [
    "## RandomForestRegressor"
   ]
  },
  {
   "cell_type": "code",
   "execution_count": null,
   "metadata": {},
   "outputs": [],
   "source": [
    "model = RandomForestRegressor(n_estimators=100)\n",
    "model.fit(x_train, y_train)\n",
    "y_pred = model.predict(x_test)"
   ]
  },
  {
   "cell_type": "code",
   "execution_count": null,
   "metadata": {},
   "outputs": [],
   "source": [
    "print(f\"Mean squared error: {mean_squared_error(y_test, y_pred, squared=False)}\")\n",
    "R2 = r2_score(y_test,y_pred)\n",
    "print(f\"R Squared: {R2}\")"
   ]
  },
  {
   "cell_type": "code",
   "execution_count": null,
   "metadata": {},
   "outputs": [],
   "source": [
    "from sklearn.model_selection import cross_val_score\n",
    "scores = cross_val_score(model, \n",
    "                         X, \n",
    "                         y, \n",
    "                         scoring='neg_root_mean_squared_error', \n",
    "                         cv=5, n_jobs=-1)"
   ]
  },
  {
   "cell_type": "code",
   "execution_count": null,
   "metadata": {},
   "outputs": [],
   "source": [
    "np.mean(-scores)"
   ]
  },
  {
   "cell_type": "code",
   "execution_count": null,
   "metadata": {},
   "outputs": [],
   "source": [
    "X_test = sc.transform(diamonds_predict[columns_df].values)\n",
    "y_hat = model.predict(X_test).clip(0, 20000)\n",
    "submission = pd.DataFrame({'id': diamonds_predict['id'], 'price': y_hat})\n",
    "submission.to_csv('../data/results_2/RandomForestRegressor_no_hiperparametros.csv', index=False)"
   ]
  },
  {
   "cell_type": "markdown",
   "metadata": {},
   "source": [
    "## xgboost"
   ]
  },
  {
   "cell_type": "code",
   "execution_count": null,
   "metadata": {},
   "outputs": [],
   "source": [
    "model = xgb.XGBRegressor(n_estimators=100)\n",
    "model.fit(x_train, y_train)\n",
    "y_pred = model.predict(x_test)"
   ]
  },
  {
   "cell_type": "code",
   "execution_count": null,
   "metadata": {},
   "outputs": [],
   "source": [
    "print(f\"Mean squared error: {mean_squared_error(y_test, y_pred, squared=False)}\")\n",
    "R2 = r2_score(y_test,y_pred)\n",
    "print(f\"R Squared: {R2}\")"
   ]
  },
  {
   "cell_type": "code",
   "execution_count": null,
   "metadata": {},
   "outputs": [],
   "source": [
    "from sklearn.model_selection import cross_val_score\n",
    "scores = cross_val_score(model, \n",
    "                         X, \n",
    "                         y, \n",
    "                         scoring='neg_root_mean_squared_error', \n",
    "                         cv=5, n_jobs=-1)"
   ]
  },
  {
   "cell_type": "code",
   "execution_count": null,
   "metadata": {},
   "outputs": [],
   "source": [
    "np.mean(-scores)"
   ]
  },
  {
   "cell_type": "code",
   "execution_count": null,
   "metadata": {},
   "outputs": [],
   "source": [
    "X_test = sc.transform(diamonds_predict[columns_df].values)\n",
    "y_hat = model.predict(X_test).clip(0, 20000)\n",
    "submission = pd.DataFrame({'id': diamonds_predict['id'], 'price': y_hat})\n",
    "submission.to_csv('../data/results_2/xgboost_no_hiperparametros_forma_diamantes.csv', index=False)"
   ]
  },
  {
   "cell_type": "code",
   "execution_count": null,
   "metadata": {},
   "outputs": [],
   "source": []
  },
  {
   "cell_type": "code",
   "execution_count": null,
   "metadata": {},
   "outputs": [],
   "source": []
  },
  {
   "cell_type": "code",
   "execution_count": null,
   "metadata": {},
   "outputs": [],
   "source": [
    "Parameter_grid = ({'n_estimators':[16, 32, 64, 128, 256, 512], \n",
    "                'max_depth:':[2, 4, 8],\n",
    "                #'num_leaves': [31, 40, 60],\n",
    "                'learning_rate': [0.005, 0.1],\n",
    "                'bagging_fraction': [0.70, 0.75],\n",
    "                'max_bin': [128, 256],\n",
    "                'feature_fraction' : [0.75, 0.8],\n",
    "                'bagging_frequency' : [0.70, 0.80]})\n",
    "\n",
    "#'min_data_in_leaf': [15, 20, 25]"
   ]
  },
  {
   "cell_type": "code",
   "execution_count": null,
   "metadata": {},
   "outputs": [],
   "source": [
    "grid_search = RandomizedSearchCV(model,\n",
    "                                 Parameter_grid,\n",
    "                                 cv=5,\n",
    "                                 verbose=5,\n",
    "                                 scoring='neg_root_mean_squared_error',\n",
    "                                 n_jobs=-1,\n",
    "                                 n_iter=20)"
   ]
  },
  {
   "cell_type": "code",
   "execution_count": null,
   "metadata": {},
   "outputs": [],
   "source": [
    "grid_search.fit(X, y)"
   ]
  },
  {
   "cell_type": "code",
   "execution_count": null,
   "metadata": {},
   "outputs": [],
   "source": []
  }
 ],
 "metadata": {
  "kernelspec": {
   "display_name": "Python [conda env:ironhack_data]",
   "language": "python",
   "name": "conda-env-ironhack_data-py"
  },
  "language_info": {
   "codemirror_mode": {
    "name": "ipython",
    "version": 3
   },
   "file_extension": ".py",
   "mimetype": "text/x-python",
   "name": "python",
   "nbconvert_exporter": "python",
   "pygments_lexer": "ipython3",
   "version": "3.7.7"
  }
 },
 "nbformat": 4,
 "nbformat_minor": 4
}
